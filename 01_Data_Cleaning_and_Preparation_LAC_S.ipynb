{
  "nbformat": 4,
  "nbformat_minor": 0,
  "metadata": {
    "colab": {
      "provenance": [],
      "authorship_tag": "ABX9TyPI0DSWZbtTP6hco5tDoaZY",
      "include_colab_link": true
    },
    "kernelspec": {
      "name": "python3",
      "display_name": "Python 3"
    },
    "language_info": {
      "name": "python"
    }
  },
  "cells": [
    {
      "cell_type": "markdown",
      "metadata": {
        "id": "view-in-github",
        "colab_type": "text"
      },
      "source": [
        "<a href=\"https://colab.research.google.com/github/ShirsSosa/Data_Visualization_Technical_Assessment-/blob/main/01_Data_Cleaning_and_Preparation_LAC_S.ipynb\" target=\"_parent\"><img src=\"https://colab.research.google.com/assets/colab-badge.svg\" alt=\"Open In Colab\"/></a>"
      ]
    },
    {
      "cell_type": "code",
      "source": [
        "from google.colab import drive\n",
        "\n",
        "# This line starts the authorization process.\n",
        "drive.mount('/content/drive')"
      ],
      "metadata": {
        "colab": {
          "base_uri": "https://localhost:8080/"
        },
        "id": "7c-QabHlR82H",
        "outputId": "4c34e058-aa05-48a9-b7d3-0d4744db1b5f"
      },
      "execution_count": 1,
      "outputs": [
        {
          "output_type": "stream",
          "name": "stdout",
          "text": [
            "Mounted at /content/drive\n"
          ]
        }
      ]
    },
    {
      "cell_type": "code",
      "source": [
        "import pandas as pd\n",
        "file_path = '/content/drive/MyDrive/DV-tech/LAC_Socioeconomic_Data.xlsx'\n",
        "\n",
        "try:\n",
        "    df = pd.read_excel(file_path)\n",
        "    print(\"Success!\")\n",
        "    print(df.head())\n",
        "except FileNotFoundError:\n",
        "    print(f\"Error\")\n",
        "except Exception as e:\n",
        "    print(f\"unexpected error: {e}\")"
      ],
      "metadata": {
        "colab": {
          "base_uri": "https://localhost:8080/"
        },
        "id": "yI3KyGNTaX2R",
        "outputId": "c07c8bc1-f527-415c-8b67-44db87dd760d"
      },
      "execution_count": 2,
      "outputs": [
        {
          "output_type": "stream",
          "name": "stdout",
          "text": [
            "Success!\n",
            "     Country  Year  GDP_per_capita  Female_Labor_Participation  \\\n",
            "0  Argentina  1995     9367.182020                   63.780880   \n",
            "1  Argentina  1996     9838.496079                   62.315155   \n",
            "2  Argentina  1997    11268.125610                   63.818546   \n",
            "3  Argentina  1998     9495.256081                   63.110653   \n",
            "4  Argentina  1999    10402.671200                   64.062310   \n",
            "\n",
            "   Male_Labor_Participation  Female_Unemployment  Male_Unemployment  \\\n",
            "0                 80.975081            11.788798          11.727045   \n",
            "1                 81.176480             7.203521           5.367962   \n",
            "2                 80.928034             5.875765           5.680611   \n",
            "3                 80.842842             9.446946           9.343780   \n",
            "4                 80.588643             6.984839           4.498627   \n",
            "\n",
            "   Female_Secondary_Education  Male_Secondary_Education  \\\n",
            "0                   88.495493                 80.171066   \n",
            "1                   46.974693                 44.053247   \n",
            "2                   87.444277                 77.787957   \n",
            "3                   85.466020                 82.878220   \n",
            "4                   57.837666                 55.028321   \n",
            "\n",
            "   Female_Tertiary_Education  Male_Tertiary_Education  Female_Literacy  \\\n",
            "0                  20.616956                16.980456        79.401708   \n",
            "1                  28.318092                19.196692        93.844223   \n",
            "2                  50.419867                44.327592        77.344131   \n",
            "3                  43.126114                36.891893        87.481633   \n",
            "4                  37.134804                34.316320        94.252728   \n",
            "\n",
            "   Male_Literacy  \n",
            "0      78.618677  \n",
            "1      92.642918  \n",
            "2      78.081063  \n",
            "3      87.668474  \n",
            "4      92.550930  \n"
          ]
        }
      ]
    },
    {
      "cell_type": "code",
      "source": [
        "# Select only the columns necessary for the study\n",
        "main_columns = [\n",
        "    'Country',\n",
        "    'Year',\n",
        "    'GDP_per_capita',\n",
        "    'Female_Labor_Participation',\n",
        "    'Male_Labor_Participation',\n",
        "    'Female_Unemployment',\n",
        "    'Male_Unemployment',\n",
        "    'Female_Secondary_Education',\n",
        "    'Male_Secondary_Education',\n",
        "    'Female_Tertiary_Education',\n",
        "    'Male_Tertiary_Education',\n",
        "    'Female_Literacy',\n",
        "    'Male_Literacy'\n",
        "]\n",
        "\n",
        "# Create a new DataFrame that contains ONLY those columns.\n",
        "# Use .copy() for prevent issues with original dataset\n",
        "try:\n",
        "    project_df = df[main_columns].copy()\n",
        "    print(\"Success!\")\n",
        "\n",
        "    # 3. Verify the result.\n",
        "    print(\"\\nShape of the new DataFrame (rows, columns):\", project_df.shape)\n",
        "    print(\"\\nFirst 5 rows of the new DataFrame:\")\n",
        "    print(project_df.head())\n",
        "\n",
        "except KeyError as e:\n",
        "    print(f\"Error! A column was not found: {e}\")\n",
        "    print(\"Check if the list are correct.\")"
      ],
      "metadata": {
        "colab": {
          "base_uri": "https://localhost:8080/"
        },
        "id": "e-Ing8wbbVXn",
        "outputId": "77a3b840-89a6-4513-9114-ac5e749b8507"
      },
      "execution_count": 4,
      "outputs": [
        {
          "output_type": "stream",
          "name": "stdout",
          "text": [
            "Success!\n",
            "\n",
            "Shape of the new DataFrame (rows, columns): (660, 13)\n",
            "\n",
            "First 5 rows of the new DataFrame:\n",
            "     Country  Year  GDP_per_capita  Female_Labor_Participation  \\\n",
            "0  Argentina  1995     9367.182020                   63.780880   \n",
            "1  Argentina  1996     9838.496079                   62.315155   \n",
            "2  Argentina  1997    11268.125610                   63.818546   \n",
            "3  Argentina  1998     9495.256081                   63.110653   \n",
            "4  Argentina  1999    10402.671200                   64.062310   \n",
            "\n",
            "   Male_Labor_Participation  Female_Unemployment  Male_Unemployment  \\\n",
            "0                 80.975081            11.788798          11.727045   \n",
            "1                 81.176480             7.203521           5.367962   \n",
            "2                 80.928034             5.875765           5.680611   \n",
            "3                 80.842842             9.446946           9.343780   \n",
            "4                 80.588643             6.984839           4.498627   \n",
            "\n",
            "   Female_Secondary_Education  Male_Secondary_Education  \\\n",
            "0                   88.495493                 80.171066   \n",
            "1                   46.974693                 44.053247   \n",
            "2                   87.444277                 77.787957   \n",
            "3                   85.466020                 82.878220   \n",
            "4                   57.837666                 55.028321   \n",
            "\n",
            "   Female_Tertiary_Education  Male_Tertiary_Education  Female_Literacy  \\\n",
            "0                  20.616956                16.980456        79.401708   \n",
            "1                  28.318092                19.196692        93.844223   \n",
            "2                  50.419867                44.327592        77.344131   \n",
            "3                  43.126114                36.891893        87.481633   \n",
            "4                  37.134804                34.316320        94.252728   \n",
            "\n",
            "   Male_Literacy  \n",
            "0      78.618677  \n",
            "1      92.642918  \n",
            "2      78.081063  \n",
            "3      87.668474  \n",
            "4      92.550930  \n"
          ]
        }
      ]
    },
    {
      "cell_type": "code",
      "source": [
        "# --- STEP 1: Check & clean data ---\n",
        "print(\"--- 1. DataFrame Info ---\")\n",
        "project_df.info()\n",
        "\n",
        "print(\"\\n\" + \"=\"*50 + \"\\n\") # Visual separator\n",
        "\n",
        "# Count of missing (NaN) values for each column.\n",
        "print(\"--- 2. Count of Missing Values (NaN) per Column ---\")\n",
        "missing_values = project_df.isnull().sum()\n",
        "print(missing_values)"
      ],
      "metadata": {
        "colab": {
          "base_uri": "https://localhost:8080/"
        },
        "id": "uQBIn3CadeFf",
        "outputId": "f7f78f52-8416-4805-d04b-45592f1817d4"
      },
      "execution_count": 5,
      "outputs": [
        {
          "output_type": "stream",
          "name": "stdout",
          "text": [
            "--- 1. DataFrame Info ---\n",
            "<class 'pandas.core.frame.DataFrame'>\n",
            "RangeIndex: 660 entries, 0 to 659\n",
            "Data columns (total 13 columns):\n",
            " #   Column                      Non-Null Count  Dtype  \n",
            "---  ------                      --------------  -----  \n",
            " 0   Country                     660 non-null    object \n",
            " 1   Year                        660 non-null    int64  \n",
            " 2   GDP_per_capita              660 non-null    float64\n",
            " 3   Female_Labor_Participation  660 non-null    float64\n",
            " 4   Male_Labor_Participation    660 non-null    float64\n",
            " 5   Female_Unemployment         660 non-null    float64\n",
            " 6   Male_Unemployment           660 non-null    float64\n",
            " 7   Female_Secondary_Education  660 non-null    float64\n",
            " 8   Male_Secondary_Education    660 non-null    float64\n",
            " 9   Female_Tertiary_Education   660 non-null    float64\n",
            " 10  Male_Tertiary_Education     660 non-null    float64\n",
            " 11  Female_Literacy             660 non-null    float64\n",
            " 12  Male_Literacy               660 non-null    float64\n",
            "dtypes: float64(11), int64(1), object(1)\n",
            "memory usage: 67.2+ KB\n",
            "\n",
            "==================================================\n",
            "\n",
            "--- 2. Count of Missing Values (NaN) per Column ---\n",
            "Country                       0\n",
            "Year                          0\n",
            "GDP_per_capita                0\n",
            "Female_Labor_Participation    0\n",
            "Male_Labor_Participation      0\n",
            "Female_Unemployment           0\n",
            "Male_Unemployment             0\n",
            "Female_Secondary_Education    0\n",
            "Male_Secondary_Education      0\n",
            "Female_Tertiary_Education     0\n",
            "Male_Tertiary_Education       0\n",
            "Female_Literacy               0\n",
            "Male_Literacy                 0\n",
            "dtype: int64\n"
          ]
        }
      ]
    },
    {
      "cell_type": "code",
      "source": [
        "# --- STEP 2: Create new variables ---\n",
        "\n",
        "# Check if the columns already exist to prevent errors if you run the cell multiple times.\n",
        "if 'labor_participation_gap' not in project_df.columns:\n",
        "    print(\"⚙️  Creating new 'gap' columns for analysis...\")\n",
        "\n",
        "    # Calculate the difference between male and female indicators.\n",
        "    # These new columns will be the core of our storytelling.\n",
        "    project_df['labor_participation_gap'] = project_df['Male_Labor_Participation'] - project_df['Female_Labor_Participation']\n",
        "    project_df['secondary_education_gap'] = project_df['Male_Secondary_Education'] - project_df['Female_Secondary_Education']\n",
        "    project_df['tertiary_education_gap'] = project_df['Male_Tertiary_Education'] - project_df['Female_Tertiary_Education']\n",
        "    project_df['literacy_gap'] = project_df['Male_Literacy'] - project_df['Female_Literacy']\n",
        "\n",
        "    # For unemployment, a positive gap means unemployment is higher for females, which is a key insight.\n",
        "    project_df['unemployment_gap'] = project_df['Female_Unemployment'] - project_df['Male_Unemployment']\n",
        "\n",
        "    print(\"Success! Gap columns have been created.\")\n",
        "\n",
        "else:\n",
        "    print(\"Gap columns already exist. No changes made.\")\n",
        "\n",
        "\n",
        "# --- Verification Step ---\n",
        "# Let's display the first few rows with some of the new gap columns to ensure they were calculated correctly.\n",
        "print(\"\\n--- Verifying the new columns ---\")\n",
        "columns_to_verify = [\n",
        "    'Country',\n",
        "    'Year',\n",
        "    'Female_Labor_Participation',\n",
        "    'Male_Labor_Participation',\n",
        "    'labor_participation_gap',\n",
        "    'Female_Secondary_Education',\n",
        "    'Male_Secondary_Education',\n",
        "    'secondary_education_gap'\n",
        "]\n",
        "print(project_df[columns_to_verify].head())"
      ],
      "metadata": {
        "colab": {
          "base_uri": "https://localhost:8080/"
        },
        "id": "Sy4LcAjKejqN",
        "outputId": "649d424a-746e-4391-8f28-e8eaa7f0c225"
      },
      "execution_count": 8,
      "outputs": [
        {
          "output_type": "stream",
          "name": "stdout",
          "text": [
            "Gap columns already exist. No changes made.\n",
            "\n",
            "--- Verifying the new columns ---\n",
            "     Country  Year  Female_Labor_Participation  Male_Labor_Participation  \\\n",
            "0  Argentina  1995                   63.780880                 80.975081   \n",
            "1  Argentina  1996                   62.315155                 81.176480   \n",
            "2  Argentina  1997                   63.818546                 80.928034   \n",
            "3  Argentina  1998                   63.110653                 80.842842   \n",
            "4  Argentina  1999                   64.062310                 80.588643   \n",
            "\n",
            "   labor_participation_gap  Female_Secondary_Education  \\\n",
            "0                17.194201                   88.495493   \n",
            "1                18.861325                   46.974693   \n",
            "2                17.109489                   87.444277   \n",
            "3                17.732189                   85.466020   \n",
            "4                16.526333                   57.837666   \n",
            "\n",
            "   Male_Secondary_Education  secondary_education_gap  \n",
            "0                 80.171066                -8.324426  \n",
            "1                 44.053247                -2.921446  \n",
            "2                 77.787957                -9.656320  \n",
            "3                 82.878220                -2.587800  \n",
            "4                 55.028321                -2.809345  \n"
          ]
        }
      ]
    },
    {
      "cell_type": "code",
      "source": [
        "print(\"Reshaping data to a 'long' format...\")\n",
        "id_vars = [\n",
        "    'Country',\n",
        "    'Year',\n",
        "    'GDP_per_capita'\n",
        "]\n",
        "\n",
        "value_vars = [\n",
        "    'labor_participation_gap',\n",
        "    'secondary_education_gap',\n",
        "    'tertiary_education_gap',\n",
        "    'unemployment_gap',\n",
        "    'literacy_gap'\n",
        "]\n",
        "\n",
        "df_long = project_df.melt(\n",
        "    id_vars=id_vars,\n",
        "    value_vars=value_vars,\n",
        "    var_name='Gap Type',\n",
        "    value_name='Gap Value'\n",
        ")\n",
        "\n",
        "gap_name_mapping = {\n",
        "    'labor_participation_gap': 'Labor Participation',\n",
        "    'secondary_education_gap': 'Secondary Education',\n",
        "    'tertiary_education_gap': 'Tertiary Education',\n",
        "    'unemployment_gap': 'Unemployment',\n",
        "    'literacy_gap': 'Literacy'\n",
        "}\n",
        "\n",
        "df_long['Gap Type'] = df_long['Gap Type'].replace(gap_name_mapping)\n",
        "\n",
        "print(\"Success!\")\n",
        "print(\"Here is a preview of your new 'long' dataset:\")\n",
        "print(df_long.head())"
      ],
      "metadata": {
        "colab": {
          "base_uri": "https://localhost:8080/"
        },
        "id": "7gE23dQWWLvR",
        "outputId": "d3e897d6-1a1a-4116-a7bd-d7fbdb77c222"
      },
      "execution_count": 12,
      "outputs": [
        {
          "output_type": "stream",
          "name": "stdout",
          "text": [
            "Reshaping data to a 'long' format...\n",
            "Success!\n",
            "Here is a preview of your new 'long' dataset:\n",
            "     Country  Year  GDP_per_capita             Gap Type  Gap Value\n",
            "0  Argentina  1995     9367.182020  Labor Participation  17.194201\n",
            "1  Argentina  1996     9838.496079  Labor Participation  18.861325\n",
            "2  Argentina  1997    11268.125610  Labor Participation  17.109489\n",
            "3  Argentina  1998     9495.256081  Labor Participation  17.732189\n",
            "4  Argentina  1999    10402.671200  Labor Participation  16.526333\n"
          ]
        }
      ]
    },
    {
      "cell_type": "code",
      "source": [
        "# --- STEP 3: Save DataFrame  ---\n",
        "\n",
        "output_filename_long = 'Final_LAC_Socioeconomic_Data_v2.csv'\n",
        "output_path_long = f'/content/drive/MyDrive/DV-tech/{output_filename_long}'\n",
        "df_long.to_csv(output_path_long, index=False)\n",
        "\n",
        "print(f\"Success!\")\n",
        "print(f\"DataFrame is ready!:\")\n",
        "print(output_path_long)"
      ],
      "metadata": {
        "colab": {
          "base_uri": "https://localhost:8080/"
        },
        "id": "8QUtHSdMWS86",
        "outputId": "8000005a-a945-4fa2-fc46-1e3ed3c8c51e"
      },
      "execution_count": 13,
      "outputs": [
        {
          "output_type": "stream",
          "name": "stdout",
          "text": [
            "Success!\n",
            "DataFrame is ready!:\n",
            "/content/drive/MyDrive/DV-tech/Final_LAC_Socioeconomic_Data_v2.csv\n"
          ]
        }
      ]
    }
  ]
}